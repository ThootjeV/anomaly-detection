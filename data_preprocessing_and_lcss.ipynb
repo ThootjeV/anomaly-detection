{
 "cells": [
  {
   "cell_type": "code",
   "execution_count": 1,
   "metadata": {
    "scrolled": false
   },
   "outputs": [
    {
     "name": "stdout",
     "output_type": "stream",
     "text": [
      "test\n"
     ]
    }
   ],
   "source": [
    "import traj_dist.distance as tdist #to compile distances\n",
    "import pyclustering as cl #to cluster the distances\n",
    "import traja as tr #to work with trajectory data\n",
    "import pandas as pd #to read csv file\n",
    "import itertools #to compare all trajectories\n",
    "import numpy as np\n",
    "from matplotlib import pyplot as plt\n",
    "from traja.frame import TrajaCollection #to use all trajectories at once\n",
    "from datetime import datetime"
   ]
  },
  {
   "cell_type": "code",
   "execution_count": 16,
   "metadata": {},
   "outputs": [
    {
     "name": "stdout",
     "output_type": "stream",
     "text": [
      "       Unnamed: 0     AnimalID                     TagID          y  \\\n",
      "0            1705   E002(GWFG)               48511838495  73.455433   \n",
      "1            1706   E002(GWFG)               48511838495  73.456300   \n",
      "2            1707   E002(GWFG)               48511838495  73.455916   \n",
      "3            1708   E002(GWFG)               48511838495  73.458700   \n",
      "4            1709   E002(GWFG)               48511838495  73.456316   \n",
      "...           ...          ...                       ...        ...   \n",
      "63607      176441  D3391(GWFG)  100045000451353334393332  46.166644   \n",
      "63608      176442  D3391(GWFG)  100045000451353334393332  46.155281   \n",
      "63609      176443  D3391(GWFG)  100045000451353334393332  46.155348   \n",
      "63610      176444  D3391(GWFG)  100045000451353334393332  46.155483   \n",
      "63611      176445  D3391(GWFG)  100045000451353334393332  46.155753   \n",
      "\n",
      "                x                 time  Unnamed: 0.1  \n",
      "0      127.048233  2015-07-01 00:00:46        2519.0  \n",
      "1      127.056033  2015-07-01 06:00:29        2520.0  \n",
      "2      127.052100  2015-07-01 12:00:33        2521.0  \n",
      "3      127.053383  2015-07-01 18:00:26        2522.0  \n",
      "4      127.052633  2015-07-02 00:01:04        2523.0  \n",
      "...           ...                  ...           ...  \n",
      "63607  124.359180  2019-09-30 22:01:01      788395.0  \n",
      "63608  124.407547  2019-09-30 20:00:08      788397.0  \n",
      "63609  124.407530  2019-09-30 16:59:59      788400.0  \n",
      "63610  124.407695  2019-09-30 14:00:00      788403.0  \n",
      "63611  124.408028  2019-09-30 11:00:03      788406.0  \n",
      "\n",
      "[63612 rows x 7 columns]\n"
     ]
    }
   ],
   "source": [
    "dataframe = pd.read_csv(\"fall_migration.csv\")\n",
    "dataframe = dataframe.rename(columns={\"Longitude\": \"x\", \"Latitude\": \"y\", \"Timestamp\": \"time\"})\n",
    "trj = tr.TrajaDataFrame(dataframe)\n",
    "trajectories = TrajaCollection(trj, id_col=\"TagID\")\n",
    "trajectories_xy = trajectories[['AnimalID','x','y']]\n",
    "timestamps = trajectories[['AnimalID','time']]\n",
    "single_tr = trajectories_xy.groupby(\"AnimalID\",group_keys=False)#Needed to have individual trajectories\n",
    "single_timespan = timestamps.groupby(\"AnimalID\",group_keys=False)#Needed to have individual timestamps\n",
    "#trajectories.plot()\n",
    "TagID = trajectories_xy[[\"AnimalID\"]].values.ravel()\n",
    "unique_ID =  pd.unique(TagID)\n",
    "single_trj = np.asarray(single_tr)#needed to use traj_dist\n",
    "single_trj = single_trj[:,[1]]\n",
    "single_timespan = np.asarray(single_timespan)#needed to use traj_dist\n",
    "single_timespan = single_timespan[:,[1]]\n",
    "\"\"\"testa = single_trj[0][0]     Needed to test if it worked\n",
    "testa = testa[['x','y']]\n",
    "testa = np.asarray(testa)\"\"\"\n",
    "print(dataframe)"
   ]
  },
  {
   "cell_type": "code",
   "execution_count": 8,
   "metadata": {},
   "outputs": [
    {
     "name": "stdout",
     "output_type": "stream",
     "text": [
      "0         2015-01-30 23:03:00\n",
      "1         2015-01-31 00:00:00\n",
      "2         2015-01-31 03:00:00\n",
      "3         2015-01-31 06:00:00\n",
      "4         2015-01-31 09:00:00\n",
      "                 ...         \n",
      "852367    2019-03-02 11:00:20\n",
      "852368    2019-03-02 10:00:12\n",
      "852369    2019-03-02 09:00:33\n",
      "852370    2019-03-02 08:00:19\n",
      "852371    2019-03-02 07:01:28\n",
      "Name: time, Length: 852372, dtype: object\n",
      "<class 'datetime.datetime'>\n"
     ]
    }
   ],
   "source": [
    "import datetime\n",
    "print(dataframe['time'])\n",
    "re_sampled = pd.DataFrame({'AnimalID': [],\n",
    "                    'TagID': [],\n",
    "                    'y': [],\n",
    "                    'x': [],\n",
    "                    'time': []})\n",
    "old_time = datetime.datetime(2000, 11, 28, 23, 55, 59)\n",
    "old_index = \"\"\n",
    "'''for index, row in dataframe.iterrows():\n",
    "    datetime_object = datetime.datetime.strptime(row['time'], '%Y-%m-%d %H:%M:%S')\n",
    "    if(old_index == row['AnimalID']):\n",
    "        if((old_time + datetime.timedelta(hours=2) <= datetime_object) or (old_time - datetime.timedelta(hours=2) >= datetime_object) ):\n",
    "            re_sampled = re_sampled.append(row)\n",
    "            old_time = datetime_object\n",
    "    else:\n",
    "        re_sampled = re_sampled.append(row)\n",
    "        old_time = datetime.datetime(2000, 11, 28, 23, 55, 59)\n",
    "    old_index = row['AnimalID']\n",
    "    datetime_object = datetime.datetime.strptime(row['time'], '%Y-%m-%d %H:%M:%S')\n",
    "'''\n",
    "\n",
    "\n",
    "\n",
    "print(type(datetime_object))\n",
    "re_sampled.to_csv('re_sampled_bird_data.csv')"
   ]
  },
  {
   "cell_type": "code",
   "execution_count": 3,
   "metadata": {},
   "outputs": [
    {
     "name": "stdout",
     "output_type": "stream",
     "text": [
      "0         2015-01-30 23:03:00\n",
      "1         2015-01-31 00:00:00\n",
      "2         2015-01-31 03:00:00\n",
      "3         2015-01-31 06:00:00\n",
      "4         2015-01-31 09:00:00\n",
      "                 ...         \n",
      "177455    2019-03-02 20:00:11\n",
      "177456    2019-03-02 17:00:16\n",
      "177457    2019-03-02 14:00:12\n",
      "177458    2019-03-02 11:00:20\n",
      "177459    2019-03-02 08:00:19\n",
      "Name: time, Length: 177460, dtype: object\n",
      "           AnimalID                     TagID          y           x  \\\n",
      "1705     E002(GWFG)               48511838495  73.455433  127.048233   \n",
      "1706     E002(GWFG)               48511838495  73.456300  127.056033   \n",
      "1707     E002(GWFG)               48511838495  73.455916  127.052100   \n",
      "1708     E002(GWFG)               48511838495  73.458700  127.053383   \n",
      "1709     E002(GWFG)               48511838495  73.456316  127.052633   \n",
      "...             ...                       ...        ...         ...   \n",
      "176441  D3391(GWFG)  100045000451353334393332  46.166644  124.359180   \n",
      "176442  D3391(GWFG)  100045000451353334393332  46.155281  124.407547   \n",
      "176443  D3391(GWFG)  100045000451353334393332  46.155348  124.407530   \n",
      "176444  D3391(GWFG)  100045000451353334393332  46.155483  124.407695   \n",
      "176445  D3391(GWFG)  100045000451353334393332  46.155753  124.408028   \n",
      "\n",
      "                       time  Unnamed: 0  \n",
      "1705    2015-07-01 00:00:46      2519.0  \n",
      "1706    2015-07-01 06:00:29      2520.0  \n",
      "1707    2015-07-01 12:00:33      2521.0  \n",
      "1708    2015-07-01 18:00:26      2522.0  \n",
      "1709    2015-07-02 00:01:04      2523.0  \n",
      "...                     ...         ...  \n",
      "176441  2019-09-30 22:01:01    788395.0  \n",
      "176442  2019-09-30 20:00:08    788397.0  \n",
      "176443  2019-09-30 16:59:59    788400.0  \n",
      "176444  2019-09-30 14:00:00    788403.0  \n",
      "176445  2019-09-30 11:00:03    788406.0  \n",
      "\n",
      "[63612 rows x 6 columns]\n"
     ]
    }
   ],
   "source": [
    "import datetime\n",
    "print(dataframe['time'])\n",
    "fall = pd.DataFrame({'AnimalID': [],\n",
    "                    'TagID': [],\n",
    "                    'y': [],\n",
    "                    'x': [],\n",
    "                    'time': []})\n",
    "spring = pd.DataFrame({'AnimalID': [],\n",
    "                    'TagID': [],\n",
    "                    'y': [],\n",
    "                    'x': [],\n",
    "                    'time': []})\n",
    "for index, row in dataframe.iterrows():\n",
    "    datetime_object = datetime.datetime.strptime(row['time'], '%Y-%m-%d %H:%M:%S')\n",
    "    if(datetime_object.month > 6):\n",
    "        fall = fall.append(row)\n",
    "    else:\n",
    "        spring = spring.append(row)\n",
    "        \n",
    "        \n",
    "print(fall)\n",
    "fall.to_csv('fall_migration.csv')\n",
    "spring.to_csv('spring_migration.csv')"
   ]
  },
  {
   "cell_type": "code",
   "execution_count": 17,
   "metadata": {},
   "outputs": [
    {
     "name": "stdout",
     "output_type": "stream",
     "text": [
      "1573023614.0\n"
     ]
    }
   ],
   "source": [
    "# Set Time to Unix Timestamp\n",
    "start_times = []\n",
    "start_timestamps = []\n",
    "for time in single_timespan:\n",
    "    time_a = time[0]\n",
    "    time_a = time_a[['time']]\n",
    "    time_a = np.asarray(time_a)\n",
    "    start_times.append(time_a[0])\n",
    "for starttime in start_times:\n",
    "    datetime_object = datetime.datetime.strptime(starttime[0], '%Y-%m-%d %H:%M:%S')\n",
    "    start_timestamps.append(datetime.datetime.timestamp(datetime_object))\n",
    "print(start_timestamps[0])"
   ]
  },
  {
   "cell_type": "code",
   "execution_count": 18,
   "metadata": {},
   "outputs": [],
   "source": [
    "gps = []\n",
    "RNN_form = {'TRIP_ID':[],'CALL_TYPE' :[],'ORIGIN_CALL':[], 'ORIGIN_STAND': [], 'BIRD_ID': [],'TIMESTAMP': [],'DAYTYPE': [], 'MISSING_DATA': [],   'POLYLINE':[]}\n",
    "for x in single_trj:\n",
    "    traj_a = x[0]\n",
    "    traj_a = traj_a[['x','y']].values.tolist()\n",
    "    #traj_a = traj_a[['x','y']]\n",
    "    #traj_a = np.asarray(traj_a)\n",
    "    gps.append(traj_a)\n",
    "for index, (ID, long_lang) in enumerate(zip(unique_ID, gps)):\n",
    "    RNN_form['TRIP_ID'].append(index)\n",
    "    RNN_form['POLYLINE'].append(long_lang)\n",
    "    RNN_form['ORIGIN_CALL'].append(None)\n",
    "    RNN_form['ORIGIN_STAND'].append(None)\n",
    "    RNN_form['CALL_TYPE'].append('C')\n",
    "    RNN_form['BIRD_ID'].append(ID)\n",
    "    RNN_form['TIMESTAMP'].append(start_timestamps[index])\n",
    "    RNN_form['DAYTYPE'].append('A')\n",
    "    RNN_form['MISSING_DATA'].append(False)"
   ]
  },
  {
   "cell_type": "code",
   "execution_count": 19,
   "metadata": {},
   "outputs": [
    {
     "data": {
      "text/plain": [
       "\"train = df.iloc[:64, :]\\ntest = df.iloc[64:, :]\\ntrain.to_csv('train_res.csv') #Write to csv file\\ntest.to_csv('test_res.csv')\""
      ]
     },
     "execution_count": 19,
     "metadata": {},
     "output_type": "execute_result"
    }
   ],
   "source": [
    "df = pd.DataFrame(data=RNN_form)\n",
    "df.to_csv('fall_resampled_bird_Data.csv')\n",
    "'''train = df.iloc[:64, :]\n",
    "test = df.iloc[64:, :]\n",
    "train.to_csv('train_res.csv') #Write to csv file\n",
    "test.to_csv('test_res.csv')'''"
   ]
  },
  {
   "cell_type": "code",
   "execution_count": 6,
   "metadata": {},
   "outputs": [],
   "source": [
    "distance = []\n",
    "for x in single_trj:\n",
    "    traj_a = x[0]\n",
    "    traj_a = traj_a[['x','y']]\n",
    "    traj_a = np.asarray(traj_a)\n",
    "    #distance.append(tdist.sspd(traj_a,testa,type_d=\"euclidean\")) #needed for 1 trajectory comparison\n",
    "    for y in single_trj:\n",
    "        traj_b = y[0]\n",
    "        traj_b = traj_b[['x','y']]\n",
    "        traj_b = np.asarray(traj_b)\n",
    "        distance.append(tdist.sspd(traj_a,traj_b,type_d=\"euclidean\"))"
   ]
  },
  {
   "cell_type": "code",
   "execution_count": 7,
   "metadata": {},
   "outputs": [
    {
     "data": {
      "image/png": "[encoded data removed]",
      "text/plain": [
       "<Figure size 432x288 with 1 Axes>"
      ]
     },
     "metadata": {
      "needs_background": "light"
     },
     "output_type": "display_data"
    }
   ],
   "source": [
    "plt.scatter(distance, distance, c='r', label='data')\n",
    "with open('listfile.txt', 'w') as filehandle:\n",
    "    filehandle.writelines(\"%s\\n\" % distances for distances in distance)"
   ]
  },
  {
   "cell_type": "code",
   "execution_count": null,
   "metadata": {},
   "outputs": [],
   "source": []
  }
 ],
 "metadata": {
  "kernelspec": {
   "display_name": "Python 3",
   "language": "python",
   "name": "python3"
  },
  "language_info": {
   "codemirror_mode": {
    "name": "ipython",
    "version": 3
   },
   "file_extension": ".py",
   "mimetype": "text/x-python",
   "name": "python",
   "nbconvert_exporter": "python",
   "pygments_lexer": "ipython3",
   "version": "3.7.6"
  }
 },
 "nbformat": 4,
 "nbformat_minor": 4
}
